{
 "cells": [
  {
   "cell_type": "code",
   "execution_count": 2,
   "metadata": {
    "slideshow": {
     "slide_type": "skip"
    }
   },
   "outputs": [
    {
     "name": "stdout",
     "output_type": "stream",
     "text": [
      "The autoreload extension is already loaded. To reload it, use:\n",
      "  %reload_ext autoreload\n"
     ]
    }
   ],
   "source": [
    "# ============================================================\n",
    "# Notebook setup\n",
    "# ============================================================\n",
    "\n",
    "%load_ext autoreload\n",
    "%autoreload 2\n",
    "\n",
    "# Retrain or use existing models\n",
    "use_cached_weights=False\n",
    "\n",
    "# Control figure size\n",
    "figsize=(14, 3.5)\n",
    "figsize_narrow=(14, 2.5)\n",
    "\n",
    "from util import util\n",
    "from tensorflow import keras\n",
    "import warnings\n",
    "warnings.filterwarnings('ignore')\n",
    "\n",
    "\n",
    "# Generate a problem instance\n",
    "nitems, rel_req, seed = 20, 0.5, 42\n",
    "prb = util.generate_problem(nitems=nitems, rel_req=rel_req, seed=seed)\n",
    "\n",
    "# Generate basic dataset\n",
    "data_tr_det = util.generate_costs(nsamples=350, nitems=nitems, seed=seed, noise_scale=0, noise_type='normal', noise_scale_type='absolute')\n",
    "data_ts_det = util.generate_costs(nsamples=150, nitems=nitems, seed=seed, sampling_seed=seed+1, noise_scale=0, noise_type='normal', noise_scale_type='absolute')"
   ]
  },
  {
   "cell_type": "markdown",
   "metadata": {
    "slideshow": {
     "slide_type": "slide"
    }
   },
   "source": [
    "# Pushing at the Envelope\n",
    "\n",
    "**RAMBLE PICTURE HERE**"
   ]
  },
  {
   "cell_type": "markdown",
   "metadata": {
    "slideshow": {
     "slide_type": "subslide"
    }
   },
   "source": [
    "## Let's Second-Guess Ourselvers\n",
    "\n",
    "**However, let's not discount the prediction-focused approach yet**\n",
    "\n",
    "In fact, it's easy to see that:\n",
    "\n",
    "$$\n",
    "\\mathbb{E}[\\text{regret}(\\hat{y}, y)] \\xrightarrow[\\mathbb{E}\\lbrack L(\\hat{y}, y) \\rbrack \\to 0]{} 0\n",
    "$$\n",
    "\n",
    "Intuitively:;\n",
    "\n",
    "* The more accurate we can be, the lower the regret\n",
    "* Eventually, perfect predictions will result in 0 regret"
   ]
  }
 ],
 "metadata": {
  "celltoolbar": "Slideshow",
  "kernelspec": {
   "display_name": "Python 3 (ipykernel)",
   "language": "python",
   "name": "python3"
  },
  "language_info": {
   "codemirror_mode": {
    "name": "ipython",
    "version": 3
   },
   "file_extension": ".py",
   "mimetype": "text/x-python",
   "name": "python",
   "nbconvert_exporter": "python",
   "pygments_lexer": "ipython3",
   "version": "3.11.3"
  },
  "rise": {
   "center": false,
   "enable_chalkboard": true,
   "transition": "fade"
  }
 },
 "nbformat": 4,
 "nbformat_minor": 4
}
