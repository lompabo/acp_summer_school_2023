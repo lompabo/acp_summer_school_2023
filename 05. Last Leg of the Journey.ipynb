{
 "cells": [
  {
   "cell_type": "code",
   "execution_count": 2,
   "metadata": {
    "slideshow": {
     "slide_type": "skip"
    }
   },
   "outputs": [],
   "source": [
    "# ============================================================\n",
    "# Notebook setup\n",
    "# ============================================================\n",
    "\n",
    "# Retrain or use existing models\n",
    "use_cached_weights=True\n",
    "\n",
    "# Control figure size\n",
    "figsize=(14, 3.5)\n",
    "figsize_narrow=(14, 2.5)\n",
    "\n",
    "import numpy as np\n",
    "from util import util\n",
    "from tensorflow import keras\n",
    "import warnings\n",
    "warnings.filterwarnings('ignore')"
   ]
  },
  {
   "cell_type": "markdown",
   "metadata": {
    "slideshow": {
     "slide_type": "slide"
    }
   },
   "source": [
    "<center>\n",
    "<img src=\"assets/trm05.png\" width=75%>\n",
    "    <big><strong>05. Last Leg of the Journey</strong></big>\n",
    "</center>"
   ]
  },
  {
   "cell_type": "markdown",
   "metadata": {
    "slideshow": {
     "slide_type": "subslide"
    }
   },
   "source": [
    "## Multi-Stage Stochastic Optimization\n",
    "\n",
    "**What if we have _a sequence_ of decision stages?**\n",
    "\n",
    "Consider for example and Energy Management System:\n",
    "\n",
    "<center><img src=\"assets/ems.png\" width=40%></center>\n",
    "\n",
    "\n",
    "* We need to make some decisions (using a generator, buyng from the grid...)\n",
    "* ...Then observe how uncertainty unfolds\n",
    "* ...Based on that, we make another round of decisions and so on"
   ]
  },
  {
   "cell_type": "markdown",
   "metadata": {
    "slideshow": {
     "slide_type": "subslide"
    }
   },
   "source": [
    "## Multi-Stage Stochastic Optimization\n",
    "\n",
    "**We will also assume that there are _non-trivial constraints_**\n",
    "\n",
    "* This setup is called multi-stage stochastic optimization\n",
    "* ...Or also online stochastic optimization, or sequential decision making"
   ]
  },
  {
   "cell_type": "markdown",
   "metadata": {},
   "source": [
    "**There are a few possible solution approaches**\n",
    "\n",
    "One approach consist in using scenarios, again\n",
    "\n",
    "* ...But since there are many stages, the decisions variables branch out\n",
    "* A solution is called a policy tree, which is _very_ expensive to compute\n",
    "\n",
    "A second approach consists in using anticipatory algorithms\n",
    "\n",
    "* We iteratively solve an optimization problem with a bit of look-ahead\n",
    "* Several examples can be found in [1]"
   ]
  },
  {
   "cell_type": "markdown",
   "metadata": {},
   "source": [
    "<small><i>\n",
    "[1] Hentenryck, Pascal Van, and Russell Bent. Online stochastic combinatorial optimization. The MIT Press, 2006.\n",
    "</i></small>"
   ]
  },
  {
   "cell_type": "markdown",
   "metadata": {
    "slideshow": {
     "slide_type": "subslide"
    }
   },
   "source": [
    "## Formalization\n",
    "\n",
    "**Formally, we can see this as a _constrained_ Markov Decision Process (MDP)**\n",
    "\n",
    "In particular, we consider a constrainted MDL $\\langle X, Z, P^0, P, f, F \\rangle$ with:\n",
    "\n",
    "* A set of possible (observable) states $X$\n",
    "* A set of possible decisions $Z$\n",
    "* A distribution $P^0(X)$ for the initial state\n",
    "* A distribution $P(X \\mid X, Z)$ for the possible state transitions \n",
    "* A cost function $f(z, x, x^+)$\n",
    "* A feasible space $F(x)$ which depends on the state\n",
    "\n",
    "**Some comments:**\n",
    "\n",
    "* The next state depends on the current state and decisions\n",
    "* The cost depends on the current state and decisions, and on the next state\n",
    "\n",
    "This is not the usual MDP definition, but it will be more convenient for us"
   ]
  },
  {
   "cell_type": "markdown",
   "metadata": {
    "slideshow": {
     "slide_type": "subslide"
    }
   },
   "source": [
    "## Formalization\n",
    "\n",
    "**Within this framework, we can formalize a multi-stage problem**\n",
    "\n",
    "Our goal is to define _a solution policy $\\pi^*$_ from a set of candidates $\\Pi$ s.t.:\n",
    "\n",
    "$$\\begin{align}\n",
    "\\pi^* = \\text{argmin}_{\\pi \\in \\Pi}\\ & \\mathbb{E}_{x^0 \\sim P^0, x^{t+1} \\sim P(X \\mid x^t, z^t)}  \\left[ \\sum_{t=1}^{eoh} f(z^t, x^t, x^{t+1}) \\right] \\\\\n",
    "\\text{subject to: } & z^t = \\pi(x^t) \\\\\n",
    "& z^t \\in F(x^t)\n",
    "\\end{align}$$\n",
    "\n",
    "**This is very complex problem:**\n",
    "\n",
    "* We are not searching for a fixed solution, but for a policy\n",
    "* The decisions can be anything (including discrete and combinatorial)\n",
    "* ...They affect the state at the next stage (endogenous uncertainty)\n",
    "* ...And they should be feasible according to hard constraints"
   ]
  },
  {
   "cell_type": "markdown",
   "metadata": {
    "slideshow": {
     "slide_type": "subslide"
    }
   },
   "source": [
    "## Solution Approach Wanted\n",
    "\n",
    "**Normally, with an MDP we may turn to Reinforcement Learning**\n",
    "\n",
    "...But in this case there are a couple of difficulties:\n",
    "\n",
    "* Handling constraints (hard ones in particular) in RL is challenging [1]\n",
    "* Handling combinatorial decisions in RL is _very_ challenging"
   ]
  },
  {
   "cell_type": "markdown",
   "metadata": {},
   "source": [
    "**Let's recap our situation**\n",
    "\n",
    "* Classical approaches from stochastic optimization have poor scalability\n",
    "* RL approaches have poor support for constraints and combinatorial spaces\n",
    "\n",
    "> **Can we use DFL in this scenario?**"
   ]
  },
  {
   "cell_type": "markdown",
   "metadata": {},
   "source": [
    "<small><i>\n",
    "[1] Garcıa, Javier, and Fernando Fernández. \"A comprehensive survey on safe reinforcement learning.\" Journal of Machine Learning Research 16.1 (2015): 1437-1480.\n",
    "</i></small>"
   ]
  },
  {
   "cell_type": "markdown",
   "metadata": {
    "slideshow": {
     "slide_type": "subslide"
    }
   },
   "source": [
    "## DFL and RL (UNIFY)\n",
    "\n",
    "**Indeed we can, and at this point it's not even that difficult**\n",
    "\n",
    "The trick is simply to _decompose the policy $\\pi$_, leading to:\n",
    "\n",
    "$$\\begin{align}\n",
    "\\theta^* = \\text{argmin}_{\\theta}\\ & \\mathbb{E}_{x^0 \\sim P^0, x^{t+1} \\sim P(X \\mid x^t, z^t)}  \\left[ \\sum_{t=1}^{eoh} f(z^t, x^t, x^{t+1}) \\right] \\\\\n",
    "\\text{subject to: } & z^t = z^*(y^t, x^t) \\\\\n",
    "& y^t = h(x^t, \\theta)\n",
    "\\end{align}$$\n",
    "\n",
    "Intuitively:\n",
    "\n",
    "* We use a ML model to output a set of virtual parameters $y$\n",
    "* ...Then we compute $z^k$ by solving a constrained optimization problem\n",
    "* The ML model take care of uncertianty\n",
    "* The optimization problem take care of the constraints"
   ]
  },
  {
   "cell_type": "markdown",
   "metadata": {
    "slideshow": {
     "slide_type": "subslide"
    }
   },
   "source": [
    "## DFL and RL (UNIFY)\n",
    "\n",
    "**We use the generalized, surrogate-based approach to compute $z^*$**\n",
    "\n",
    "In particular, we have:\n",
    "\n",
    "$$\n",
    "z^*(y, x) = \\text{argmin}_z \\{\\tilde{f}(z, y, x) \\mid z \\in \\tilde{F}(y, x) \\}\n",
    "$$\n",
    "\n",
    "* Depending on our choice for the virtual parameters\n",
    "* We will need to craft the surrogate cost $\\tilde{f}$ and feasible space $\\tilde{F}$\n",
    "* The original constraints are satisfied as long as $z \\in F(y, x) \\Rightarrow z \\in F(x)$\n",
    "\n",
    "The surrogate terms can usually be designed by tweaking a bit $f$ and $F$\n",
    "\n",
    "> **The overall idea is that _the ML model guides the optimizer_**<br>exactly as in normal DFL"
   ]
  },
  {
   "cell_type": "markdown",
   "metadata": {
    "slideshow": {
     "slide_type": "subslide"
    }
   },
   "source": [
    "## DFL and RL (UNIFY)\n",
    "\n",
    "**For training, we can rely on a simple reformulation**\n",
    "\n",
    "In particular, we define a new _unconstrained_ MDP $\\langle X, \\Theta, P^0, P, g \\rangle$ such that:\n",
    "\n",
    "* The set of states is the same as before\n",
    "* The set of states is the set $\\Theta$ of possible training parameters\n",
    "* The state transition distributions are the same as before\n",
    "* The cost function is defined as:\n",
    "\n",
    "$$\n",
    "g(y, x, x^+) = f(z^*(y), x, x^+)\n",
    "$$\n",
    "\n",
    "**Intuitively, we _treat the solver as part of the environment_**\n",
    "\n",
    "> **This new MDP can be addressed by _any RL learning approach_**<br>so we can benfit from recent advances in such field"
   ]
  },
  {
   "cell_type": "markdown",
   "metadata": {
    "slideshow": {
     "slide_type": "subslide"
    }
   },
   "source": [
    "## DFL and RL (UNIFY)\n",
    "\n",
    "**This setup is the most general we have seen so far**\n",
    "\n",
    "It can be used to address a wide number of problem types\n",
    "\n",
    "* Optimization with parameters that need to be estimated\n",
    "* One-stage stochastic programming\n",
    "* Two-state stochastic programming\n",
    "* Sequential decision making with constraints\n",
    "* In principle, also black-box optimization and parameter tuning\n",
    "* ...Though it probably would not a good fit for such cases\n",
    "\n",
    "You can find it described in [2], under the name $\\text{UNIFY}$"
   ]
  },
  {
   "cell_type": "markdown",
   "metadata": {},
   "source": [
    "<small><i>\n",
    "[2] Silvestri, Mattia, et al. \"UNIFY: a Unified Policy Designing Framework for Solving Constrained Optimization Problems with Machine Learning.\" arXiv preprint arXiv:2210.14030 (2022).\n",
    "</i></small>"
   ]
  },
  {
   "cell_type": "markdown",
   "metadata": {
    "slideshow": {
     "slide_type": "subslide"
    }
   },
   "source": [
    "## An Example\n",
    "\n",
    "**Let's consider the Energy Management System example in detail**\n",
    "\n",
    "Every 15 minutes, we need to adjust power flow to/from a set of nodes\n",
    "\n",
    "* Nodes can be generators, demand points, or the grid\n",
    "* One special node represents a storage system\n",
    "\n",
    "**The decisions $z^t$ at time $t$ include:**\n",
    "\n",
    "* A vector of power flows $z^t_{nodes}$ to/from the main nodes\n",
    "* A power flow $z^t_{storage}$ to/from the storage system\n",
    "\n",
    "**The state $x^t$ at time $t$ is given by:**\n",
    "\n",
    "* The power $x_{power}^t$ generated by some nodes (e.g. PV plants)\n",
    "* The demand $x_{demand}^t$ for some nodes (e.g. production sites or housing)\n",
    "* The storage charge level $x_{storage}^t$"
   ]
  },
  {
   "cell_type": "markdown",
   "metadata": {
    "slideshow": {
     "slide_type": "subslide"
    }
   },
   "source": [
    "## An Example\n",
    "\n",
    "**The transition distribution $P$ is defined by:**\n",
    "\n",
    "* A distribution $P_{power}$ of the yield of renewable energy generators\n",
    "* A distribution $P_{demand}$ of the demand\n",
    "* The deterministic transition $x_{storage}^{t+1} = x_{storage}^t + \\eta z_{storage}$\n",
    "\n",
    "\n",
    "**The feasible space $F(x^t)$ is defined via:**\n",
    "\n",
    "* Flow capacity constraints: $l \\leq z^t \\leq t$\n",
    "* Flow balance constraints: $1^T z + x_{power} - x_{demand} = 0$\n",
    "* Storage capacity constraints $0 \\leq x^t_{storage} + \\eta z_{storage} \\leq C$\n",
    "\n",
    "**The cost $f(z^t, x^t, x^{t+1})$ is given by:**\n",
    "\n",
    "$$\n",
    "f(z^t, x^t, x^{t+1}) = c^T z_{nodes}\n",
    "$$\n",
    "\n",
    "* There is no cost associate to demands, renewable generators, and the storage"
   ]
  },
  {
   "cell_type": "markdown",
   "metadata": {
    "slideshow": {
     "slide_type": "subslide"
    }
   },
   "source": [
    "## The Optimization Problem\n",
    "\n",
    "**We can compute $z^*(y, x)$ by solvig the following LP**\n",
    "\n",
    "$$\\begin{align}\n",
    "\\text{argmin}_z\\ & c^T z_{nodes} + \\color{red}{y z_{storage}} \\\\\n",
    "\\text{subject to: } & l \\leq z^t \\leq t \\\\\n",
    "& 1^T z + x_{power} - x_{demand} = 0 \\\\\n",
    "& 0 \\leq x^t_{storage} + \\eta z_{storage} \\leq C\n",
    "\\end{align}$$\n",
    "\n",
    "The main alteration is that _a virtual cost is associated to the storage system_\n",
    "\n",
    "* If $y > 0$, the solve will tend to _charge_ the storage\n",
    "* If $y < 0$, the solve will tend to _draw power_ from the storage\n",
    "* ...So that the ML model can _alter the decisions_\n",
    "\n",
    "**Without the virtual cost, the storage system would never be charged**"
   ]
  },
  {
   "cell_type": "markdown",
   "metadata": {
    "slideshow": {
     "slide_type": "subslide"
    }
   },
   "source": [
    "## Some Results\n",
    "\n",
    "**Here's a comparison with some constrained RL methods**\n",
    "\n",
    "<center><img src=\"assets/constrained-rl-1.png\" width=60%></center>"
   ]
  },
  {
   "cell_type": "markdown",
   "metadata": {
    "slideshow": {
     "slide_type": "subslide"
    }
   },
   "source": [
    "## Some Results\n",
    "\n",
    "**And here's a comparison with a specialized stochastic optimization approach**\n",
    "\n",
    "<center><img src=\"assets/model-parameter-tuning-1.png\" width=60%></center>"
   ]
  },
  {
   "cell_type": "markdown",
   "metadata": {
    "slideshow": {
     "slide_type": "subslide"
    }
   },
   "source": [
    "## Some Final Thoughts\n",
    "\n",
    "If you retain one idea from our ramble, makes sure it is this:\n",
    "\n",
    "> **DFL can be used for _way_ more than one purpose!**\n",
    "\n",
    "You just need to stretch it a little bit ;-)"
   ]
  },
  {
   "cell_type": "markdown",
   "metadata": {},
   "source": [
    "**Where next?**\n",
    "\n",
    "* We can reap what we haven't sowed! Let's test more RL algos (spoiler: started)\n",
    "* Scalability is still a big issue\n",
    "* We need more (and more realistic) applications\n",
    "* ..."
   ]
  },
  {
   "cell_type": "markdown",
   "metadata": {
    "slideshow": {
     "slide_type": "subslide"
    }
   },
   "source": [
    "<div class=big>\n",
    "<strong>Thanks for your patience!</strong><br>\n",
    "Any question?\n",
    "</div>"
   ]
  }
 ],
 "metadata": {
  "celltoolbar": "Slideshow",
  "kernelspec": {
   "display_name": "Python 3 (ipykernel)",
   "language": "python",
   "name": "python3"
  },
  "language_info": {
   "codemirror_mode": {
    "name": "ipython",
    "version": 3
   },
   "file_extension": ".py",
   "mimetype": "text/x-python",
   "name": "python",
   "nbconvert_exporter": "python",
   "pygments_lexer": "ipython3",
   "version": "3.11.3"
  },
  "rise": {
   "center": false,
   "enable_chalkboard": true,
   "transition": "fade"
  }
 },
 "nbformat": 4,
 "nbformat_minor": 4
}
