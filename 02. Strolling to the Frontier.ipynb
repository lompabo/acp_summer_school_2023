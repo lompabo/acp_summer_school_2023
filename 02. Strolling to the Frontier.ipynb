{
 "cells": [
  {
   "cell_type": "code",
   "execution_count": null,
   "metadata": {
    "slideshow": {
     "slide_type": "skip"
    }
   },
   "outputs": [],
   "source": [
    "# ============================================================\n",
    "# Notebook setup\n",
    "# ============================================================\n",
    "\n",
    "%load_ext autoreload\n",
    "%autoreload 2\n",
    "\n",
    "# Retrain or use existing models\n",
    "use_cached_weights=False\n",
    "\n",
    "# Control figure size\n",
    "figsize=(14, 3.5)\n",
    "\n",
    "from util import util\n",
    "from tensorflow import keras\n",
    "import warnings\n",
    "warnings.filterwarnings('ignore')\n",
    "\n",
    "\n",
    "# Generate a problem instance\n",
    "nitems, rel_req, seed = 20, 0.5, 42\n",
    "prb = util.generate_problem(nitems=nitems, rel_req=rel_req, seed=seed)\n",
    "\n",
    "# Generate basic dataset\n",
    "data_tr = util.generate_costs(nsamples=350, nitems=nitems, seed=seed, noise_scale=0, noise_type='normal', noise_scale_type='absolute')\n",
    "data_ts = util.generate_costs(nsamples=150, nitems=nitems, seed=seed, sampling_seed=seed+1, noise_scale=0, noise_type='normal', noise_scale_type='absolute')"
   ]
  },
  {
   "cell_type": "markdown",
   "metadata": {
    "slideshow": {
     "slide_type": "slide"
    }
   },
   "source": [
    "# Hurdles and Mitigations\n",
    "\n",
    "**RAMBLE PICTURE HERE**"
   ]
  },
  {
   "cell_type": "markdown",
   "metadata": {
    "slideshow": {
     "slide_type": "subslide"
    }
   },
   "source": [
    "## Let's Not Party Too Much\n",
    "\n",
    "**However, let's not discount the prediction-focused approach yet**\n",
    "\n",
    "In fact, it's easy to see that:\n",
    "\n",
    "$$\n",
    "\\mathbb{E}[\\text{regret}(\\hat{y}, y)] \\xrightarrow[\\mathbb{E}\\lbrack L(\\hat{y}, y) \\rbrack \\to 0]{} 0\n",
    "$$\n",
    "\n",
    "Intuitively:;\n",
    "\n",
    "* The more accurate we can be, the lower the regret\n",
    "* Eventually, perfect predictions will result in 0 regret"
   ]
  },
  {
   "cell_type": "markdown",
   "metadata": {},
   "source": [
    "**In other words, we might still be able to reduce regret by "
   ]
  },
  {
   "cell_type": "code",
   "execution_count": null,
   "metadata": {},
   "outputs": [],
   "source": [
    "pfl = util.build_nn_model(input_shape=1, output_shape=nitems, hidden=[16], name='pfl_det_acc', output_activation='linear')\n",
    "%time history = util.train_nn_model(pfl, data_tr.index.values, data_tr.values, epochs=1000, loss='mse', validation_split=0, save_weights=True, load_weights=use_cached_weights)\n",
    "util.plot_training_history(history, figsize=figsize_narrow, print_final_scores=False)\n",
    "util.print_ml_metrics(pfl, data_tr.index.values, data_tr.values, label='training')\n",
    "util.print_ml_metrics(pfl, data_ts.index.values, data_ts.values, label='test')"
   ]
  }
 ],
 "metadata": {
  "celltoolbar": "Slideshow",
  "kernelspec": {
   "display_name": "Python 3 (ipykernel)",
   "language": "python",
   "name": "python3"
  },
  "language_info": {
   "codemirror_mode": {
    "name": "ipython",
    "version": 3
   },
   "file_extension": ".py",
   "mimetype": "text/x-python",
   "name": "python",
   "nbconvert_exporter": "python",
   "pygments_lexer": "ipython3",
   "version": "3.11.3"
  },
  "rise": {
   "center": false,
   "enable_chalkboard": true,
   "transition": "fade"
  }
 },
 "nbformat": 4,
 "nbformat_minor": 4
}
